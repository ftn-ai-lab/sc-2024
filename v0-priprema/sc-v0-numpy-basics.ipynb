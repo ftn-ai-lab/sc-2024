{
 "cells": [
  {
   "cell_type": "markdown",
   "id": "a669b8b6-17cc-4b04-bf79-89f8e9af3a84",
   "metadata": {},
   "source": [
    "# Numpy\n",
    "\n",
    "Numpy je biblioteka za \"scientific computing\" u Python-u. Raspolaže sa alatima za kreiranje i rukovanje multi-dimenzionim matricama. Postoje sličnosti sa Matlab-om. Pre korišćena neophodno je izvršiti import numpy biblioteke unutar skripte/python fajla."
   ]
  },
  {
   "cell_type": "code",
   "execution_count": null,
   "id": "a64d7c76-2805-4a7c-a066-4d21c42f674b",
   "metadata": {},
   "outputs": [],
   "source": [
    "import numpy as np"
   ]
  },
  {
   "cell_type": "markdown",
   "id": "da320621-6491-4871-b6c5-63eaadb53cdb",
   "metadata": {},
   "source": [
    "Uz pomoć numpy definišemo više-dimenzione nizove tj. tenzore (eng. tensors). Broj dimenzija predstavlja rang (eng. rank) od niza, i oblike (eng. shape) je veličina niza po svim dimenzijama tj. osama (eng. axis). Tenzori služe za reprezentacija podataka unutar neuronskih mreža i ti podaci su uglavnom brojevi.\n",
    "Postoje:\n",
    "- skalari (0D tenzor) - broj\n",
    "- Vektorti (1D tenzor) - niz \n",
    "- Matrice (2D tenzor)\n",
    "- 3D i više-dimenzioni tenzori uz pomoć kojih predstavljamo kompleksne podatke kao što su slike, video, zvuk, itd. \n",
    "\n",
    "Nizovi sadrže isti tip vrednosti elemenata i elementi su indeksirani kao skup nenagativnih brojeva od 0.\n",
    "\n",
    "## Vektori (eng. Arrays)\n",
    "\n",
    "Numpy vektor ili 1D tenzor, je niz sa jednom osom (rang 1). \n",
    "Postoji mnogo funkcija za rad sa numpy nizovima definisanih u numpy biblioteci."
   ]
  },
  {
   "cell_type": "code",
   "execution_count": null,
   "id": "49318c23-3f4d-4312-95a4-55224b623e88",
   "metadata": {},
   "outputs": [],
   "source": [
    "# kreiranje niza ranga 1 \n",
    "a = np.array([1, 2, 3])\n",
    "print(a)\n",
    "\n",
    "# oblik, broj elemenata po x-osi\n",
    "print(a.shape)\n",
    "\n",
    "# pristupanju elementu po indeksu/poziciji \n",
    "print(a[2])"
   ]
  },
  {
   "cell_type": "markdown",
   "id": "5b8a0ca3-7670-4696-9754-ad0bbc95039f",
   "metadata": {},
   "source": [
    "## Matrice (eng. Matrics)\n",
    "\n",
    "Matrica ili 2D tenzor, je niz sa dve ose (rang 2)."
   ]
  },
  {
   "cell_type": "code",
   "execution_count": null,
   "id": "c3ac34be-6e29-4ded-a431-2c70dd401c4e",
   "metadata": {},
   "outputs": [],
   "source": [
    "# dvodimenzioni niz - matrica \n",
    "\n",
    "m = np.array([[1, 2, 3], [4, 5, 6]])\n",
    "print(f\"Dvodimenzioni niz-matrica:\\nm={m}\\n\") \n",
    "\n",
    "red, kolona = m.shape\n",
    "print(f\"Broj redova: {red} \\nBroj kolona: {kolona}\\n\")\n",
    "\n",
    "# element u 0 redu i 1 koloni\n",
    "print(f\"Element m[0, 1] = {m[0, 1]}\\n\")\n",
    "\n",
    "# kreiranje matrice od nula na osnovu zadatog broja redova i kolona\n",
    "a = np.zeros((2, 2))\n",
    "print(f\"Matrica sa nulama:\\n {a}\\n\")\n",
    "\n",
    "# kreiranje matrice od jedinica na osnovu zadatog broja redova i kolona\n",
    "b = np.ones((3, 2))\n",
    "print(f\"Matrica sa jedinicama:\\n {b}\\n\")\n",
    "\n",
    "# kreira matrricu sa jedinicama na dijagonali, a ostali elementi su 0. Ne mora biti kvadratna matrica.\n",
    "print(f\"np.eye(2,3):\\n {np.eye(2, 3)}\\n\")\n",
    "# kreira kvadratnu matrrica sa jedinicama na dijagonali, a ostali elementi su 0\n",
    "print(f\"np.identity(2):\\n {np.identity(2)}\\n\")\n",
    "\n",
    "c = np.full((2, 2), 7)\n",
    "print(f\"Kreiranje niza sa zadatom konstatom:\\n {c}\\n\")\n",
    "\n",
    "d = np.random.random((2, 2))\n",
    "print(f\"Matrica sa random vrednostima:\\n {d}\")"
   ]
  },
  {
   "cell_type": "code",
   "execution_count": null,
   "id": "b2ee3ab3-7bfc-4814-8313-11565240413c",
   "metadata": {},
   "outputs": [],
   "source": [
    "# Rezultat je vektor sa prvim i poslednjim elementom zadatim sa prvim i drugim parametrom i ukupnim brojem elemenata\n",
    "# predstavljen trećim parametrom\n",
    "print(np.linspace(-5, 5, 10))"
   ]
  },
  {
   "cell_type": "code",
   "execution_count": null,
   "id": "28fcb3d2-1514-4b9b-a7e0-1bb181db210a",
   "metadata": {},
   "outputs": [],
   "source": [
    "#dijagonala\n",
    "print(np.diag([1,2,3,4,5]),'\\n')\n",
    "\n",
    "#transponovanje\n",
    "m = np.array([[1,2],[3,4]])\n",
    "print(m.T)"
   ]
  },
  {
   "cell_type": "markdown",
   "id": "d1c109f9-aff8-4327-8d4c-eb30a3660bc0",
   "metadata": {},
   "source": [
    "## Indeksiranje nizova\n",
    "\n",
    "Postoji nekoliko načina za indeksiranje nizova. \n",
    "\n",
    "Spomenućemo sledeća:\n",
    "- Slicing\n",
    "- Integer indeksiranje\n",
    "- Boolean indeksiranje\n",
    "\n",
    "**Slicing** - numpy nizovi su više-dimenzioni nizovi te mora da se zada slice za svaku dimenziju."
   ]
  },
  {
   "cell_type": "code",
   "execution_count": null,
   "id": "16eb6bfc-b36f-4f01-ae0a-c74597a29d13",
   "metadata": {},
   "outputs": [],
   "source": [
    "a = np.array([[1,2,3,4], [5,6,7,8], [9,10,11,12]])\n",
    "print(f\"Matrica \\na={a}\\nranga 2\\noblika:{np.shape(a)}\\n\")\n",
    "\n",
    "# Izdvojiće se podmatrica od matrice a, gde se uzimaju prva dva reda, i 1 i 2 kolona matrice a\n",
    "b = a[:2, 1:3]\n",
    "print(f\"Matrica b = [:2, 1:3]\\nb={b}\")"
   ]
  },
  {
   "cell_type": "markdown",
   "id": "1eb0e971-5700-4815-a97e-d59a55a01687",
   "metadata": {},
   "source": [
    "Slice nekog niza predstavlja samo pogled na originalni niz, svaka modifikacija direktno utiče na originalni niz"
   ]
  },
  {
   "cell_type": "code",
   "execution_count": null,
   "id": "9c24c0c1-8d37-4880-b476-197b3eae5064",
   "metadata": {},
   "outputs": [],
   "source": [
    "print(f\"Stara vrednost elementa a[0, 1]={a[0, 1]}\\n\")   \n",
    "b[0, 0] = 77    \n",
    "print(f\"Nakon izmene b[0, 0] = 77\\nnova vrednost je a[0, 1]={a[0, 1]}\")   "
   ]
  },
  {
   "cell_type": "markdown",
   "id": "b638d28a-1caa-4396-87cc-1530d1d8639b",
   "metadata": {},
   "source": [
    "**Integer indeksiranje**"
   ]
  },
  {
   "cell_type": "code",
   "execution_count": null,
   "id": "104f6ffa-cb92-4227-8c7b-0d649c1469de",
   "metadata": {},
   "outputs": [],
   "source": [
    "a = np.array([[1, 2], [3, 4], [5, 6]])\n",
    "print(f\"a =\\n {a}\\n\")\n",
    "\n",
    "m = a[[0, 1, 2], [0, 1, 0]]\n",
    "print (f\"a[[0, 1, 2], [0, 1, 0]] = {m}\\nima oblike {np.shape(m)}\\n\")\n",
    "\n",
    "# Ekvivalentno prethnom primeru\n",
    "m = np.array([a[0, 0], a[1, 1], a[2, 0]])\n",
    "print (f\"np.array([a[0, 0], a[1, 1], a[2, 0]]) = {m}\\n\")\n",
    "\n",
    "print(f\"a[[0, 0], [1, 1]] = {a[[0, 0], [1, 1]]}\") \n",
    "# Ekvivalentno prethnom primeru\n",
    "print(f\"np.array([a[0, 1], a[0, 1]]) = {np.array([a[0, 1], a[0, 1]])}\\n\") "
   ]
  },
  {
   "cell_type": "markdown",
   "id": "c491008d-69db-451b-a1f0-f05fe25349cd",
   "metadata": {},
   "source": [
    "Selekcija ili izmena jednog elementa iz svakog reda."
   ]
  },
  {
   "cell_type": "code",
   "execution_count": null,
   "id": "89bf1a6d-5123-4e04-a736-87fe4f88028a",
   "metadata": {},
   "outputs": [],
   "source": [
    "a = np.array([[1,2,3], [4,5,6], [7,8,9], [10, 11, 12]])\n",
    "\n",
    "print(f\"a =\\n{a}\\n\")  \n",
    "\n",
    "# niz indeksa\n",
    "b = np.array([0, 2, 0, 1])\n",
    "\n",
    "# Selektuje se jedan element iz svakog reda iz matrice a koristeći pozicije u vektoru b\n",
    "print(a[np.arange(4), b],\"\\n\")  \n",
    "\n",
    "# Izmeni se jedan element iz svakog reda iz matrice a koristeći pozicije u vektoru b\n",
    "a[np.arange(4), b] += 10\n",
    "print(a,\"\\n\")  "
   ]
  },
  {
   "cell_type": "markdown",
   "id": "56ea4f02-f2d9-4d77-a029-76c95f29cedb",
   "metadata": {},
   "source": [
    "Postoji mogućnost kombinovanja integer i slice indeksiranja, ali ovo nije isto kao u MATLAB-u."
   ]
  },
  {
   "cell_type": "code",
   "execution_count": null,
   "id": "1f4cd384-f7fb-4803-a014-7e99836da378",
   "metadata": {},
   "outputs": [],
   "source": [
    "a = np.array([[1,2,3,4], [5,6,7,8], [9,10,11,12]])\n",
    "\n",
    "print(\"Indeksiranje po redovima.\")\n",
    "red_r1 = a[1, :]    # Rang 1 pogled od drugog reda matrice a \n",
    "red_r2 = a[1:2, :]  # Rang 2 pogled od drugog reda matrice a \n",
    "red_r3 = a[[1], :]  # Rang 2 pogled od drugog reda matrice a\n",
    "print (red_r1, red_r1.shape) \n",
    "print (red_r2, red_r2.shape)\n",
    "print (red_r3, red_r3.shape)\n",
    "\n",
    "print(\"\\nIndeksiranje po kolonama.\")\n",
    "kol_r1 = a[:, 1]\n",
    "kol_r2 = a[:, 1:2]\n",
    "print (kol_r1, kol_r1.shape)\n",
    "print ()\n",
    "print (kol_r2, kol_r2.shape)"
   ]
  },
  {
   "cell_type": "markdown",
   "id": "2c4b5d73-0183-478e-b62a-ee455ffc1d73",
   "metadata": {},
   "source": [
    "**Boolean indeksiranje** - primena kod selekcije elemenata koji ispunjavaju zadati uslov"
   ]
  },
  {
   "cell_type": "code",
   "execution_count": null,
   "id": "3fad6d04-a3aa-4ef2-a419-f7af27f4fb63",
   "metadata": {},
   "outputs": [],
   "source": [
    "a = np.array([[1, 2], [3, 4], [5, 6]])\n",
    "print(a, \"\\n\")\n",
    "\n",
    "print(\"Vratiti sve elemente koji su veći od 2.\\n\")\n",
    "bool_idx = (a>2)\n",
    "print(bool_idx, \"\\n\")\n",
    "\n",
    "print(a[bool_idx], \"\\n\")\n",
    "# ili \n",
    "print(a[a > 2], \"\\n\")"
   ]
  },
  {
   "cell_type": "markdown",
   "id": "e5e1f1cb-ce90-48ff-97f2-f47c727cba8f",
   "metadata": {},
   "source": [
    "Za detaljniji pregled numpy indeksiranje niza pročitajte [dokumentaciju](https://numpy.org/doc/stable/reference/arrays.indexing.html).\n",
    "\n",
    "## Tipovi podataka \n",
    "\n",
    "Numpy nizovi sadrže elemente istog tipa. Numpy nudi veliki skup numeričkih tipova podataka uz pomoć kojih se definišu nizovi. Ako se eksplicitno ne navede tip podatka, numpy pokušava da pogodi koji je tip u pitanju. Praksa je da se navede tip elemenata prilikom definisanja niza."
   ]
  },
  {
   "cell_type": "code",
   "execution_count": null,
   "id": "6d312652-f63d-48e4-ab3e-5bfe580104b8",
   "metadata": {},
   "outputs": [],
   "source": [
    "x = np.array([1, 2])  # Numpy odabira tip podatka\n",
    "y = np.array([1.0, 2.0])  # Numpy odabira tip podatka\n",
    "z = np.array([1, 2], dtype=np.int64)  # Eksplicitno je naveden tip podatka\n",
    "\n",
    "print (x.dtype, y.dtype, z.dtype)"
   ]
  },
  {
   "cell_type": "markdown",
   "id": "b93ab08a-d95b-43ca-ac76-d18047772517",
   "metadata": {},
   "source": [
    "Više o tipovima podatka u Numpy biblioteci može se pronaći na [linku](https://numpy.org/doc/stable/reference/arrays.dtypes.html).\n",
    "\n",
    "## Matematičke operacije\n",
    "\n",
    "Osnovne matematičke operacije se primenjuju na svaki element u nizu. Operacije su dostupne kao preklopljeni operator i kao funkcija.\r\n"
   ]
  },
  {
   "cell_type": "code",
   "execution_count": null,
   "id": "31d833bc-4f7e-41ad-af1f-f2cfc956de16",
   "metadata": {},
   "outputs": [],
   "source": [
    "x = np.array([[1,2],[3,4]], dtype=np.float64)\n",
    "y = np.array([[5,6],[7,8]], dtype=np.float64)\n",
    "\n",
    "print(\"Sabiranje elemenata matrice\")\n",
    "print(f\"x + y =\\n{x + y}\\n\")\n",
    "print(f\"np.add(x, y)\\n{np.add(x, y)}\\n\")\n",
    "\n",
    "print(\"Oduzimanje elemenata matrice\")\n",
    "print(f\"x - y =\\n{x - y}\\n\")\n",
    "print(f\"np.subtract(x, y)\\n{np.subtract(x, y)}\\n\")\n",
    "\n",
    "print(\"Množenje\")\n",
    "print(f\"x * y =\\n{x * y}\\n\")\n",
    "print(f\"np.multiply(x, y)\\n{np.multiply(x, y)}\\n\")\n",
    "\n",
    "print(\"Deljenje\")\n",
    "print(f\"x / y =\\n{x / y}\\n\")\n",
    "print(f\"np.divide(x, y)\\n{np.divide(x, y)}\\n\")\n",
    "\n",
    "print(\"Kvadriranje\")\n",
    "print(f\"np.sqrt(x)\\n{np.sqrt(x)}\")"
   ]
  },
  {
   "cell_type": "markdown",
   "id": "59ec984e-6738-42f2-85b8-e0f45288d833",
   "metadata": {},
   "source": [
    "Za razliku od MATLAB-a, ``*`` je operator koji množi svaki element matrice i ne predstavlja matrično množenje. Za matrično množenje potrebno je da se pozove ``dot`` funkcija iz Numpy. Ova funkcija može da se pozove kao funkcija niza ili kao zasebna funckija."
   ]
  },
  {
   "cell_type": "code",
   "execution_count": null,
   "id": "b240fab9-7023-4787-a4ef-a29f455d725c",
   "metadata": {},
   "outputs": [],
   "source": [
    "x = np.array([[1, 2], [3, 4]])\n",
    "y = np.array([[5, 6], [7, 8]])\n",
    "\n",
    "v = np.array([9, 10])\n",
    "w = np.array([11, 12])\n",
    "\n",
    "print(\"Matrićno množenje\")\n",
    "print(\"Množenje vektora, rezultat je skalarna vrednost.\\n\")\n",
    "print (f\"v.dot(w) = {v.dot(w)}\")\n",
    "print (f\"np.dot(v, w) = {np.dot(v, w)}\\n\")\n",
    "\n",
    "print(\"Množenje matrice i vektora, rezultat je vektor (rang 1 niz).\\n\")\n",
    "print (f\"x.dot(v) = {x.dot(v)}\\n\")\n",
    "print (f\"np.dot(x, v) = {np.dot(x, v)}\\n\")\n",
    "\n",
    "print(\"Množenje matrica, rezultat je matrica (rang 2 niz).\\n\")\n",
    "print (f\"x.dot(y) =\\n{x.dot(y)}\\n\")\n",
    "print (f\"np.dot(x, y) =\\n{np.dot(x, y)}\")"
   ]
  },
  {
   "cell_type": "markdown",
   "id": "9fe33cb5-5d2e-4a0f-86cb-fb14224ead76",
   "metadata": {},
   "source": [
    "Pored standardnih matematičkih operacija ``Numpy`` nudi funkcije koje se izvršavaju nad nizovima. Na primer ``sum``."
   ]
  },
  {
   "cell_type": "code",
   "execution_count": null,
   "id": "65d1f956-a0ed-4eb7-af57-fe125ca4896f",
   "metadata": {},
   "outputs": [],
   "source": [
    "x = np.array([[1, 2], [3, 4]])\n",
    "print(f\"x=\\n{x}\\n\")\n",
    "print(f\"Suma svih elemenata np.sum(x)\\n{np.sum(x)}\\n\") \n",
    "print(f\"Suma elemanata po kolonama np.sum(x, axis=0)\\n{np.sum(x, axis=0)}\\n\")  \n",
    "print(f\"Suma elemanata po redovima np.sum(x, axis=1)\\n{np.sum(x, axis=1)}\") "
   ]
  },
  {
   "cell_type": "markdown",
   "id": "331caa1d-4803-40b2-8a76-cb5f597c7eef",
   "metadata": {},
   "source": [
    "Detaljnije o matematičkim operacijama nalazi se u [dokumentaciji](https://numpy.org/doc/stable/reference/routines.math.html).\n",
    "\n",
    "Pored česte primene matematičkih operacija nad nizovima, neophodno ih je preoblikovati ili manipulisati sa podacima unutar nizova. Najjednostavniji primer ovog tipa operacije je transponovanje matrice. Matrica se transponuje pozivom atributa ``T`` nad objektom niza."
   ]
  },
  {
   "cell_type": "code",
   "execution_count": null,
   "id": "1270a83d-227b-4e7b-b9cc-9428a4abf33f",
   "metadata": {},
   "outputs": [],
   "source": [
    "x = np.array([[1, 2], [3, 4]])\n",
    "\n",
    "print(f\"x=\\n{x}\\n\")              \n",
    "print(f\"Transponovana matrica x.T=\\n{x.T}\\n\")  \n",
    "\n",
    "print(\"Vektor se ne transponuje\")\n",
    "v = np.array([1,2,3])\n",
    "print(v)    \n",
    "print(v.T) "
   ]
  },
  {
   "cell_type": "markdown",
   "id": "28e44d8c-1206-4851-b886-c383f9627122",
   "metadata": {},
   "source": [
    "Detaljnije o funkcijama za manipulaciju nizovima nalazi se na sledećem [linku](https://numpy.org/doc/stable/reference/routines.array-manipulation.html)."
   ]
  },
  {
   "cell_type": "markdown",
   "id": "7ebf4f42-88a3-485e-bdcc-f6537b699b0e",
   "metadata": {},
   "source": [
    "### 1. Zadatak\n",
    "\n",
    "Kreirati 4x4 matricu sa nasumičnim vrednostima i pronaći zbir svakog reda."
   ]
  },
  {
   "cell_type": "code",
   "execution_count": null,
   "id": "7cb66a64-6890-46a5-b6de-d83d6a435dca",
   "metadata": {},
   "outputs": [],
   "source": []
  },
  {
   "cell_type": "markdown",
   "id": "1ca7cd55-1d95-4173-b6a6-e90eb43f0ae1",
   "metadata": {},
   "source": [
    "### 2. Zadatak\n",
    "\n",
    "Kreirati 5x5 matricu sa nasumičnim vrednostima i sortirati svaku kolonu rastuće."
   ]
  },
  {
   "cell_type": "code",
   "execution_count": null,
   "id": "ee0c53bf-3fcf-42c1-beb8-92142efbcd99",
   "metadata": {},
   "outputs": [],
   "source": []
  },
  {
   "cell_type": "markdown",
   "id": "a255020c-6d8a-41fd-bcea-9f604c8c77a8",
   "metadata": {},
   "source": [
    "### 3. Zadatak\n",
    "\n",
    "Kreirati 5x5 matricu sa nasumičnim vrednostima i zameniti minimalnu vrednost sa 0."
   ]
  },
  {
   "cell_type": "code",
   "execution_count": null,
   "id": "a3886389-6f7f-416c-b189-39ac08d2da52",
   "metadata": {},
   "outputs": [],
   "source": []
  },
  {
   "cell_type": "markdown",
   "id": "d6186c06-78b5-4724-af5f-f5f2fbdd2d0c",
   "metadata": {},
   "source": [
    "# Matplotlib \n",
    "\n",
    "Matplotlib je biblioteka za crtanje grafova. Da bismo koristili biblioteku mora da se import-uje iz `matplotlib.pyplot` modula."
   ]
  },
  {
   "cell_type": "code",
   "execution_count": null,
   "id": "5e9566b6-2722-4ea7-9be9-284ec52b353d",
   "metadata": {},
   "outputs": [],
   "source": [
    "import matplotlib.pyplot as plt"
   ]
  },
  {
   "cell_type": "markdown",
   "id": "d3d59adf-1a1d-4958-9245-d14f91ce3a89",
   "metadata": {},
   "source": [
    "Da bi se slika prikazala u jupyter notebook-u koristimo komandu: "
   ]
  },
  {
   "cell_type": "code",
   "execution_count": null,
   "id": "560678fc-bcd1-412b-9cfd-f8dd4055db74",
   "metadata": {},
   "outputs": [],
   "source": [
    "%matplotlib inline"
   ]
  },
  {
   "cell_type": "markdown",
   "id": "920b9b3f-807f-4543-b309-0abdc6dc618e",
   "metadata": {},
   "source": [
    "# Crtanje grafa\n",
    "\n",
    "Funkcija koja će se najviše koristiti je ``plot``. Ova funkcija dozvoljava crtanje 2D podataka (x, y koordinate). \n",
    "\n",
    "Sledeći primer je crtanja rezultata grafa ``ReLU`` aktivacione funkcije."
   ]
  },
  {
   "cell_type": "code",
   "execution_count": null,
   "id": "511c9655-37d9-46d7-b69f-fe061c8b7b15",
   "metadata": {},
   "outputs": [],
   "source": [
    "x = np.linspace(-10, 10)\n",
    "y = np.maximum(0, x)\n",
    "#y = [max(0, val) for val in x]\n",
    "plt.plot(x, y)\n",
    "plt.show()"
   ]
  },
  {
   "cell_type": "markdown",
   "id": "48339eee-6b71-45fa-8a7e-0483f6c19265",
   "metadata": {},
   "source": [
    "Naredni primer prikazuje kombinaciju rezultujućih grafova ``ReLU`` i ``Leaky ReLU`` aktivacionih funckija."
   ]
  },
  {
   "cell_type": "code",
   "execution_count": null,
   "id": "4f4c05db-2c66-4a31-a576-85465645dc7c",
   "metadata": {},
   "outputs": [],
   "source": [
    "x = np.linspace(-50, 50)\n",
    "\n",
    "y_relu = np.maximum(0, x)\n",
    "y_leaky_relu = np.where(x > 0, x, 0.01 * x)\n",
    "\n",
    "plt.plot(x, y_relu)\n",
    "plt.plot(x, y_leaky_relu)\n",
    "\n",
    "plt.xlabel('x axis label')\n",
    "plt.ylabel('y axis label')\n",
    "plt.title('Activation Functions')\n",
    "plt.legend(['ReLU', 'Leaky ReLU'])\n",
    "\n",
    "plt.show()"
   ]
  },
  {
   "cell_type": "markdown",
   "id": "9aada068-2689-40a2-8e55-6cf718f99391",
   "metadata": {},
   "source": [
    "Naredni primer prikazuje kombinaciju rezultujućih grafova ``ReLU`` i ``Sigmoid`` aktivacionih funckija."
   ]
  },
  {
   "cell_type": "code",
   "execution_count": null,
   "id": "e20bcfbf-99da-4d32-8efa-428790922062",
   "metadata": {},
   "outputs": [],
   "source": [
    "def sigmoid(x):\n",
    "    return 1 / (1 + np.exp(-x))\n",
    "\n",
    "x = np.linspace(-5, 5)\n",
    "\n",
    "y_relu = np.maximum(0, x)\n",
    "y_sigmoid = [sigmoid(value) for value in x]\n",
    "\n",
    "plt.subplot(2, 2, 1)\n",
    "plt.plot(x, y_relu)\n",
    "plt.title('ReLU')\n",
    "plt.grid(True)\n",
    "\n",
    "plt.subplot(2, 2, 2)\n",
    "plt.plot(x, y_sigmoid)\n",
    "plt.title('Sigmoid')\n",
    "plt.grid(True)\n",
    "\n",
    "plt.show()"
   ]
  },
  {
   "cell_type": "markdown",
   "id": "1b1a55ab-ca48-4f49-9204-0385d73b6aa0",
   "metadata": {},
   "source": [
    "Detaljnije možete pročitati dokumentaciju biblioteka na sledećem [linku](https://matplotlib.org/2.0.2/api/pyplot_api.html).\n",
    "\n",
    "### 4. Zadatak\n",
    "\n",
    "Implementirati sledeće aktivacione funckcije:\n",
    "1. Linearna $$f(x) = x$$\n",
    "3. Tanh $$ f(x) = tanh(x) = \\frac{e^{x}-e^{-x}}{e^{x}+e^{-x}} $$\n",
    "\n",
    "Kombinovati prethodne ReLU, Leaky ReLU, Sigmoid sa 1. i 2. na jednom grafu. Koristiti ``subplot``."
   ]
  },
  {
   "cell_type": "code",
   "execution_count": null,
   "id": "a3a252d2-049d-4c5d-bb3c-1288105093b6",
   "metadata": {},
   "outputs": [],
   "source": []
  },
  {
   "cell_type": "markdown",
   "id": "10c74b5f-21ad-4edc-8288-076828eb95f4",
   "metadata": {},
   "source": [
    "# Konvolucije\n",
    "\n",
    "Konvolucija je fundamentalna operacija u obradi slika koja se koristi za izdvajanje značajnih osobine (eng. *features*) iz slike.\n",
    "Matrica poznata kao **kernel** ili **filter** provlači se preko slike, i u zavisnosti od vrednosti u toj matrici, mogu se detektovati različite karakteristike kao što su horizontalne i vertikalne ivice, uglovi i drugi detalji.\n",
    "\n",
    "Matematička formula za dvodimenzionalnu konvoluciju je:\n",
    "\n",
    "$$ (I*H)(u,v) = \\sum_{i=-N}^{N} \\sum_{j=-N}^{N} I(u-i,v-j) \\cdot H(i,j) $$\n",
    "\n",
    "gde su:\n",
    "* $I(u,v)$ vrednosti piksela ulazne slike na koordinatama $(u,v)$,\n",
    "* $H(i,j)$ elementi kernela dimenyija $(2N + 1) \\times (2N +1)$,\n",
    "* $(i,j)$ kooridinate unutar kernela \n",
    "* $N$ je pola veličine kernela (ukoliko je kernel veličine $(2N + 1) \\times (2N +1)$\n",
    "* $(I*H)(u,v)$ je rezultat konvolucije na poziciji $(u,v)$\n",
    "\n",
    "Primena konvolucije omogućava detekciju ivica na slici korišćenjem specifičnih kernela, kao što su Sobelovi (eng. *Sobel*) ili Previtovi (eng. *Prewitt*) filteri.\n",
    "\n",
    "Previtovi filteri su jednostavni operatori za detekciju ivica koji koriste horizontalne i vertikalne matrice da izračunaju aprokismaciju gradijenta intenziteta slike.\n",
    "\n",
    "* Horizontalni Previtovi kernel:\n",
    "$$ H_x = \\begin{bmatrix} 1 & 1 & 1 \\\\\\ 0 & 0 & 0 \\\\\\ -1 & -1 & -1 \\end{bmatrix} $$\n",
    "\n",
    "* Verikalne Previtovi \n",
    "$$ H_x = \\begin{bmatrix} 1 & 0 & -1 \\\\\\ 1 & 0 & -1 \\\\\\ 1 & 0 & -1 \\end{bmatrix} $$\n",
    "\n",
    "Sobelovi filteri su slični Previtovim, ali daju veću težinu centralnim pikselima, što omogućava bolju detekciju ivica u prisustvu šuma.\n",
    "\n",
    "* Horizontalni Sobelov kernel:\n",
    "$$ S_x = \\begin{bmatrix} 1 & 2 & 1 \\\\\\ 0 & 0 & 0 \\\\\\ -1 & -2 & -1 \\end{bmatrix} $$\n",
    "\n",
    "* Vertikalni Sobelov kernel:\n",
    "$$ S_z = \\begin{bmatrix} 1 & 0 & -1 \\\\\\ 2 & 0 & -2 \\\\\\ 1 & 0 & -1 \\end{bmatrix} $$\n",
    "\n",
    "**Napomena**\\\n",
    "Inverzija kernela je ključna za ispravnu implementaciju konvolucije. Matematička definicija konvolucije podrazumeva inverziju funkcije $H$ pre množenja sa funkcijom $I$. U diskretnom slučaju, to znači da kernel treba da bude rotiran za 180 stepeni (reflektovan po horizontalnoj i vertikalnoj osi). Ovo osigurava da se odnos između piksela u slici i odgovarajućih težinskih faktora u kernelu pravilno mapira tokom konvolucije. \\\n",
    "Nakon što se obrne kernel, gornji levi element $H(-N,-N)$ u formuli odgovara donjem desnom elementu.\n",
    "\n",
    "Bez padding-a, veličina izlazne slike nakon konvolucije bila bi manja od ulazne, jer kernel \"ne može\" da se pozicionira na piksele blizu ivice bez \"ispadanja\" van granica slike. Dodavanjem padding-a (najčešće sa nulama), omogućavamo kernelu da se primeni na svim pikselima ulazne slike, uključujući i one na ivicama. Ovo rezultira izlaznom slikom iste veličine kao i ulazna, što je često poželjno u obradi slika. \n",
    "\n",
    "Koristiti sledeći kod za dodavanje ivice oko slike (ili implementirati sopstveno rešenje)\n",
    "\n",
    "```python\n",
    "pad_height = kernel_height // 2\n",
    "pad_width = kernel_width // 2\n",
    "padded_image = np.pad(image, ((pad_height, pad_height), (pad_width, pad_width)))\n",
    "```\n",
    "\n",
    "\n",
    "### 5. Zadatak\n",
    "Implementirati prethodnu matematičku formulu za konvoluciju tako da se pronađu horizontalne i vertikalne ivice na slici. \\\n",
    "Za proveru koristiti sliku predstavljenu sledećom matricom. \n",
    "```python\n",
    "image = np.array([\n",
    "    [100, 100, 100, 100, 100, 100, 100],\n",
    "    [100, 150, 150, 150, 150, 150, 100],\n",
    "    [100, 150, 200, 200, 200, 150, 100],\n",
    "    [100, 150, 200, 250, 200, 150, 100],\n",
    "    [100, 150, 200, 200, 200, 150, 100],\n",
    "    [100, 150, 150, 150, 150, 150, 100],\n",
    "    [100, 100, 100, 100, 100, 100, 100]\n",
    "])\n",
    "```\n",
    "Rezultat:\\\n",
    "<img src=\"images/image1.png\" width=\"400\">"
   ]
  },
  {
   "cell_type": "code",
   "execution_count": null,
   "id": "5636c9d9-43f0-46a7-9770-24a121191161",
   "metadata": {},
   "outputs": [],
   "source": []
  },
  {
   "cell_type": "markdown",
   "id": "76e28ce2-67de-4b09-ab18-a8cc12b10ffc",
   "metadata": {},
   "source": [
    "# Učitavanje, prikaz i obrada tabelarnih podataka\n",
    "\n",
    "Tabelarni podaci su jedan od najčešćih formata za skladištenje i razmenu podataka. Ovi podaci se često čuvaju u formatima kao što su CVS (eng. *Comma-Separated Values*) ekstenzija (.csv), Excel fajlovi (.xlsx), TSV (eng. *Tab-Separated Values*) i drugi. \\\n",
    "U programskom jeziku Python, jedan od najpopularnih biblioteka za rad sa tabelarnim podacima je `pandas`.\n",
    "Pre korišćena neophodno je izvršiti import pandas biblioteke unutar skripte/python fajla."
   ]
  },
  {
   "cell_type": "code",
   "execution_count": null,
   "id": "8d5b3ddb-7149-456e-b0e5-ed5b25333441",
   "metadata": {},
   "outputs": [],
   "source": [
    "import pandas as pd"
   ]
  },
  {
   "cell_type": "markdown",
   "id": "e3ffb904-c794-4bbb-ab40-7f1291b53ad4",
   "metadata": {},
   "source": [
    "### Učitavanje podataka\n",
    "`Pandas` pruža jednostavne i efikasne metode za učitavanje različitih formata tabelarnih podataka:\n",
    "* CSV fajlovi\\\n",
    "  `pd.read_csv('putanja_do/fajla.csv')`\n",
    "* Excel fajlovi\\\n",
    "  `pd.read_excel('putanja_do/fajla.xlsx')`\n",
    "* TSV fajlovi\\\n",
    "  `pd.read_csv('putanja_do/fajla.tsv', sep='\\t')`\n",
    "\n",
    "Nakon učitavanja, podaci se smeštaju u `DataFrame`, osnovnu strukturu podataka u biblioteci `pandas`, koja omogućava lako rukovanje i analize podataka. \n",
    "\n",
    "### Podaci u `DataFrame` strukturi se mogu istražiti sa sledećim metodama:\n",
    "* `df.head(n)` - prikazuje prvih *n* redova\n",
    "* `df.tail(n)` - prikazuje poslednjih *n* redova\n",
    "* `df.info()` - daje informaciju o tipu podataka u svakoj koloni i o vrednostima koje nedostaju\n",
    "* `df.describe()` - prikazuje osnovne statističke mere (srednja vrednost, standardna devijacija, minimum, maksimum, itd.) za numeričke kolone"
   ]
  },
  {
   "cell_type": "code",
   "execution_count": null,
   "id": "4aba6533-6a3d-41c7-84f3-28d68097a26d",
   "metadata": {},
   "outputs": [],
   "source": [
    "df = pd.read_csv('data/studenti.csv')\n",
    "\n",
    "broj_redova = 1\n",
    "\n",
    "df.head(broj_redova)"
   ]
  },
  {
   "cell_type": "code",
   "execution_count": null,
   "id": "c876eeb8-fe66-4262-80f0-9f5a3612f637",
   "metadata": {},
   "outputs": [],
   "source": [
    "df.tail(broj_redova)"
   ]
  },
  {
   "cell_type": "code",
   "execution_count": null,
   "id": "16ed4268-7da5-4e0e-bf07-843878f3bf84",
   "metadata": {},
   "outputs": [],
   "source": [
    "df.info()"
   ]
  },
  {
   "cell_type": "code",
   "execution_count": null,
   "id": "ad55ed27-2065-4b54-bdea-696ceaa37a5c",
   "metadata": {},
   "outputs": [],
   "source": [
    "df.describe()"
   ]
  },
  {
   "cell_type": "markdown",
   "id": "78006298-dc03-4ea3-9bb4-2bce5c728325",
   "metadata": {},
   "source": [
    "### Podaci u `DataFrame` strukturi se mogu selektovati: \n",
    "* `df['kolona']` - selektuje jednu kolonu\n",
    "* `df[['kolona1', 'kolona2']]` - selektuje više kolona\n",
    "* `df.loc[redovim kolone]` - selektuje podatke po imenima redova i kolona\n",
    "* `df.iloc[redovim kolone]` - selektuje podatke po indeksima redova i kolona"
   ]
  },
  {
   "cell_type": "code",
   "execution_count": null,
   "id": "37f6f219-0891-4555-b4a8-668638f6106e",
   "metadata": {},
   "outputs": [],
   "source": [
    "df['ime']"
   ]
  },
  {
   "cell_type": "code",
   "execution_count": null,
   "id": "ece09262-59ea-43c4-89d4-7086db81f3e8",
   "metadata": {},
   "outputs": [],
   "source": [
    "df[['ime', 'godina_studija']]"
   ]
  },
  {
   "cell_type": "code",
   "execution_count": null,
   "id": "48d9f257-69a9-466b-b22b-930f6bb2fe36",
   "metadata": {},
   "outputs": [],
   "source": [
    "df.loc[0, 'ime']"
   ]
  },
  {
   "cell_type": "code",
   "execution_count": null,
   "id": "d770f1b9-d6cd-4447-83bb-5cb09f7dea7b",
   "metadata": {},
   "outputs": [],
   "source": [
    "df.iloc[10, 1]"
   ]
  },
  {
   "cell_type": "markdown",
   "id": "3c02c4c4-e07c-460e-91e1-cdf9869b5d99",
   "metadata": {},
   "source": [
    "### Podaci u `DataFrame` strukturi se mogu filtrirati:\n",
    "* `df[df['kolona'] > vrednost]` - filtrira redove gde je vrednost u zadatoj koloni veći od određene vrednosti\n",
    "* `df[(df['kolona1'] > vrednost1) & (df['kolona2'] == 'vrednost2')]` - kombinovanje uslova"
   ]
  },
  {
   "cell_type": "code",
   "execution_count": null,
   "id": "77208d94-21d9-4c58-af03-2266dc5080d4",
   "metadata": {},
   "outputs": [],
   "source": [
    "df[df['godina_studija'] > 3]"
   ]
  },
  {
   "cell_type": "code",
   "execution_count": null,
   "id": "c8e72bf4-50f3-4b57-a6e0-5e3ff6159459",
   "metadata": {},
   "outputs": [],
   "source": [
    "df[(df['godina_studija'] > 3) & (df['prosek_ocena'] > 7.0)]"
   ]
  },
  {
   "cell_type": "markdown",
   "id": "99b4ae99-06bd-4ba8-936f-7e0ce0c35b7f",
   "metadata": {},
   "source": [
    "### Podaci u `DataFrame` strukturi se mogu agregirati:\n",
    "* `df.groupby('kolona')` - grupisanje podataka po koloni\n",
    "* `df.groupby('kolona1')['kolona2'].mean()` - grupisanje podataka po vrednostima u koloni u računanje srednje vrednosti drugih kolona"
   ]
  },
  {
   "cell_type": "code",
   "execution_count": null,
   "id": "ebfc5f51-316a-4c5d-89ef-b24a2dbe1dba",
   "metadata": {},
   "outputs": [],
   "source": [
    "df.groupby('godina_studija')['prosek_ocena'].max()"
   ]
  },
  {
   "cell_type": "markdown",
   "id": "39ac4cbe-cdf3-430d-80aa-d969a734c476",
   "metadata": {},
   "source": [
    "### Podaci u `DataFrame` strukturi se mogu manipulisati:\n",
    "* `df['nova_kolona'] = df['kolona1'] + df['kolona2']` - dodavanje nove kolone\n",
    "* `df['kolona'].apply(funkcija)` - primenjuje se funkcija na svaki red `axis=1` ili kolonu `axis=0`. Umesto funkcije može da se zada `lambda` izraz."
   ]
  },
  {
   "cell_type": "code",
   "execution_count": null,
   "id": "b5bb8738-c93e-4b0f-8884-a26086d1465f",
   "metadata": {},
   "outputs": [],
   "source": [
    "df['index'] = df['ime'] + df['godina_studija'].astype(str)\n",
    "df.head(10)"
   ]
  },
  {
   "cell_type": "code",
   "execution_count": null,
   "id": "d35e615e-0d8f-451f-b21f-3d8920f4c55f",
   "metadata": {},
   "outputs": [],
   "source": [
    "# dodavanje 10% na vrednosti u koloni `prosecna_ocena`, axis=0 je podrazumevana vrednost\n",
    "df['prosek_povecan'] = df['prosek_ocena'].apply(lambda x: x * 1.1)\n",
    "df.head(10)"
   ]
  },
  {
   "cell_type": "markdown",
   "id": "d72f131d-0fda-4f8b-94ca-018efa240763",
   "metadata": {},
   "source": [
    "### 6. Zadatak \n",
    "Učitati podatke iz `data/studenti.csv` fajla koji sadrži informacije o studentima i njihovim ocenama. \n",
    "1. Prikazati prvih 4 redova\n",
    "2. Izračunati prosečnu ocenu po godini studija\n",
    "3. Pronaći studenta sa najvećom prosečnom ocenom\n",
    "4. Dodati novu kolonu `status` koja ima vrednost `Položio` ako je prosek veći ili jedna 6, ili `Nije položio` ako je prosek manji od 6\n",
    "5. Sačuvati rezultate u novi CSV fajl pod nazivom `data/studenti_izvestaj.csv`"
   ]
  },
  {
   "cell_type": "code",
   "execution_count": null,
   "id": "aff52ddc-0ef3-4931-b79c-f5cdc56999b3",
   "metadata": {},
   "outputs": [],
   "source": []
  }
 ],
 "metadata": {
  "kernelspec": {
   "display_name": "Python 3 (ipykernel)",
   "language": "python",
   "name": "python3"
  },
  "language_info": {
   "codemirror_mode": {
    "name": "ipython",
    "version": 3
   },
   "file_extension": ".py",
   "mimetype": "text/x-python",
   "name": "python",
   "nbconvert_exporter": "python",
   "pygments_lexer": "ipython3",
   "version": "3.10.14"
  }
 },
 "nbformat": 4,
 "nbformat_minor": 5
}
